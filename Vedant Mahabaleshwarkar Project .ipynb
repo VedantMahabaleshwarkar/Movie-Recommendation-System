{
 "cells": [
  {
   "cell_type": "code",
   "execution_count": 1,
   "metadata": {},
   "outputs": [],
   "source": [
    "import pandas as pd\n",
    "import numpy as np"
   ]
  },
  {
   "cell_type": "code",
   "execution_count": 2,
   "metadata": {},
   "outputs": [],
   "source": [
    "movieData = pd.read_csv('ml-latest-small/movies.csv')"
   ]
  },
  {
   "cell_type": "markdown",
   "metadata": {},
   "source": [
    "# Preprocessing\n",
    "\n",
    "Here we will check the dataframes for null values, check the dataframe for the structure, etc.."
   ]
  },
  {
   "cell_type": "code",
   "execution_count": 3,
   "metadata": {},
   "outputs": [
    {
     "data": {
      "text/html": [
       "<div>\n",
       "<style scoped>\n",
       "    .dataframe tbody tr th:only-of-type {\n",
       "        vertical-align: middle;\n",
       "    }\n",
       "\n",
       "    .dataframe tbody tr th {\n",
       "        vertical-align: top;\n",
       "    }\n",
       "\n",
       "    .dataframe thead th {\n",
       "        text-align: right;\n",
       "    }\n",
       "</style>\n",
       "<table border=\"1\" class=\"dataframe\">\n",
       "  <thead>\n",
       "    <tr style=\"text-align: right;\">\n",
       "      <th></th>\n",
       "      <th>movieId</th>\n",
       "      <th>title</th>\n",
       "      <th>genres</th>\n",
       "    </tr>\n",
       "  </thead>\n",
       "  <tbody>\n",
       "    <tr>\n",
       "      <td>0</td>\n",
       "      <td>1</td>\n",
       "      <td>Toy Story (1995)</td>\n",
       "      <td>Adventure|Animation|Children|Comedy|Fantasy</td>\n",
       "    </tr>\n",
       "    <tr>\n",
       "      <td>1</td>\n",
       "      <td>2</td>\n",
       "      <td>Jumanji (1995)</td>\n",
       "      <td>Adventure|Children|Fantasy</td>\n",
       "    </tr>\n",
       "    <tr>\n",
       "      <td>2</td>\n",
       "      <td>3</td>\n",
       "      <td>Grumpier Old Men (1995)</td>\n",
       "      <td>Comedy|Romance</td>\n",
       "    </tr>\n",
       "    <tr>\n",
       "      <td>3</td>\n",
       "      <td>4</td>\n",
       "      <td>Waiting to Exhale (1995)</td>\n",
       "      <td>Comedy|Drama|Romance</td>\n",
       "    </tr>\n",
       "    <tr>\n",
       "      <td>4</td>\n",
       "      <td>5</td>\n",
       "      <td>Father of the Bride Part II (1995)</td>\n",
       "      <td>Comedy</td>\n",
       "    </tr>\n",
       "  </tbody>\n",
       "</table>\n",
       "</div>"
      ],
      "text/plain": [
       "   movieId                               title  \\\n",
       "0        1                    Toy Story (1995)   \n",
       "1        2                      Jumanji (1995)   \n",
       "2        3             Grumpier Old Men (1995)   \n",
       "3        4            Waiting to Exhale (1995)   \n",
       "4        5  Father of the Bride Part II (1995)   \n",
       "\n",
       "                                        genres  \n",
       "0  Adventure|Animation|Children|Comedy|Fantasy  \n",
       "1                   Adventure|Children|Fantasy  \n",
       "2                               Comedy|Romance  \n",
       "3                         Comedy|Drama|Romance  \n",
       "4                                       Comedy  "
      ]
     },
     "execution_count": 3,
     "metadata": {},
     "output_type": "execute_result"
    }
   ],
   "source": [
    "movieData.head(5)"
   ]
  },
  {
   "cell_type": "code",
   "execution_count": 4,
   "metadata": {},
   "outputs": [],
   "source": [
    "ratingData = pd.read_csv('ml-latest-small/ratings.csv')"
   ]
  },
  {
   "cell_type": "code",
   "execution_count": 5,
   "metadata": {},
   "outputs": [
    {
     "data": {
      "text/html": [
       "<div>\n",
       "<style scoped>\n",
       "    .dataframe tbody tr th:only-of-type {\n",
       "        vertical-align: middle;\n",
       "    }\n",
       "\n",
       "    .dataframe tbody tr th {\n",
       "        vertical-align: top;\n",
       "    }\n",
       "\n",
       "    .dataframe thead th {\n",
       "        text-align: right;\n",
       "    }\n",
       "</style>\n",
       "<table border=\"1\" class=\"dataframe\">\n",
       "  <thead>\n",
       "    <tr style=\"text-align: right;\">\n",
       "      <th></th>\n",
       "      <th>userId</th>\n",
       "      <th>movieId</th>\n",
       "      <th>rating</th>\n",
       "      <th>timestamp</th>\n",
       "    </tr>\n",
       "  </thead>\n",
       "  <tbody>\n",
       "    <tr>\n",
       "      <td>0</td>\n",
       "      <td>1</td>\n",
       "      <td>1</td>\n",
       "      <td>4.0</td>\n",
       "      <td>964982703</td>\n",
       "    </tr>\n",
       "    <tr>\n",
       "      <td>1</td>\n",
       "      <td>1</td>\n",
       "      <td>3</td>\n",
       "      <td>4.0</td>\n",
       "      <td>964981247</td>\n",
       "    </tr>\n",
       "    <tr>\n",
       "      <td>2</td>\n",
       "      <td>1</td>\n",
       "      <td>6</td>\n",
       "      <td>4.0</td>\n",
       "      <td>964982224</td>\n",
       "    </tr>\n",
       "    <tr>\n",
       "      <td>3</td>\n",
       "      <td>1</td>\n",
       "      <td>47</td>\n",
       "      <td>5.0</td>\n",
       "      <td>964983815</td>\n",
       "    </tr>\n",
       "    <tr>\n",
       "      <td>4</td>\n",
       "      <td>1</td>\n",
       "      <td>50</td>\n",
       "      <td>5.0</td>\n",
       "      <td>964982931</td>\n",
       "    </tr>\n",
       "  </tbody>\n",
       "</table>\n",
       "</div>"
      ],
      "text/plain": [
       "   userId  movieId  rating  timestamp\n",
       "0       1        1     4.0  964982703\n",
       "1       1        3     4.0  964981247\n",
       "2       1        6     4.0  964982224\n",
       "3       1       47     5.0  964983815\n",
       "4       1       50     5.0  964982931"
      ]
     },
     "execution_count": 5,
     "metadata": {},
     "output_type": "execute_result"
    }
   ],
   "source": [
    "ratingData.head(5)"
   ]
  },
  {
   "cell_type": "code",
   "execution_count": 6,
   "metadata": {},
   "outputs": [
    {
     "data": {
      "text/plain": [
       "False"
      ]
     },
     "execution_count": 6,
     "metadata": {},
     "output_type": "execute_result"
    }
   ],
   "source": [
    "ratingData['userId'].isnull().any()"
   ]
  },
  {
   "cell_type": "code",
   "execution_count": 7,
   "metadata": {},
   "outputs": [
    {
     "data": {
      "text/plain": [
       "False"
      ]
     },
     "execution_count": 7,
     "metadata": {},
     "output_type": "execute_result"
    }
   ],
   "source": [
    "ratingData['movieId'].isnull().any()"
   ]
  },
  {
   "cell_type": "code",
   "execution_count": 8,
   "metadata": {},
   "outputs": [
    {
     "data": {
      "text/plain": [
       "False"
      ]
     },
     "execution_count": 8,
     "metadata": {},
     "output_type": "execute_result"
    }
   ],
   "source": [
    "ratingData['rating'].isnull().any()"
   ]
  },
  {
   "cell_type": "code",
   "execution_count": 9,
   "metadata": {},
   "outputs": [
    {
     "name": "stdout",
     "output_type": "stream",
     "text": [
      "610 9724\n"
     ]
    }
   ],
   "source": [
    "noOfUniqueUsers = len(ratingData['userId'].unique())\n",
    "noOfUniqueMovies = len(ratingData['movieId'].unique())\n",
    "print(noOfUniqueUsers, noOfUniqueMovies)"
   ]
  },
  {
   "cell_type": "code",
   "execution_count": 10,
   "metadata": {},
   "outputs": [],
   "source": [
    "userId = sorted(list(ratingData['userId'].unique()))\n",
    "movieId = sorted(list(ratingData['movieId'].unique()))"
   ]
  },
  {
   "cell_type": "markdown",
   "metadata": {},
   "source": [
    "# Readying the data for model training and testing\n",
    "\n",
    "Spitting into training and testing"
   ]
  },
  {
   "cell_type": "code",
   "execution_count": 11,
   "metadata": {},
   "outputs": [],
   "source": [
    "from sklearn.model_selection import train_test_split"
   ]
  },
  {
   "cell_type": "code",
   "execution_count": 12,
   "metadata": {},
   "outputs": [],
   "source": [
    "train, test = train_test_split(ratingData, test_size = 0.2)"
   ]
  },
  {
   "cell_type": "markdown",
   "metadata": {},
   "source": [
    "# Coding the Model"
   ]
  },
  {
   "cell_type": "code",
   "execution_count": 13,
   "metadata": {},
   "outputs": [
    {
     "name": "stderr",
     "output_type": "stream",
     "text": [
      "Using TensorFlow backend.\n"
     ]
    }
   ],
   "source": [
    "from keras.models import Sequential, Model\n",
    "from keras.layers import Embedding, Flatten, Dense, Dropout, concatenate, multiply, Input, Reshape, dot"
   ]
  },
  {
   "cell_type": "code",
   "execution_count": 14,
   "metadata": {},
   "outputs": [],
   "source": [
    "d_embeddings = 30\n",
    "bias = 1"
   ]
  },
  {
   "cell_type": "code",
   "execution_count": 15,
   "metadata": {},
   "outputs": [
    {
     "name": "stdout",
     "output_type": "stream",
     "text": [
      "WARNING:tensorflow:From A:\\SW\\Conda\\envs\\tf_gpu\\lib\\site-packages\\keras\\backend\\tensorflow_backend.py:517: The name tf.placeholder is deprecated. Please use tf.compat.v1.placeholder instead.\n",
      "\n",
      "WARNING:tensorflow:From A:\\SW\\Conda\\envs\\tf_gpu\\lib\\site-packages\\keras\\backend\\tensorflow_backend.py:4138: The name tf.random_uniform is deprecated. Please use tf.random.uniform instead.\n",
      "\n"
     ]
    }
   ],
   "source": [
    "movie = Input(shape = [1], name = 'movie')\n",
    "movieEmbedding = Embedding(noOfUniqueMovies+1, d_embeddings, name = 'Movie_Embedding')(movie)\n",
    "movieBias = Embedding(noOfUniqueMovies + 1, bias, name=\"Movie_Bias\")(movie)"
   ]
  },
  {
   "cell_type": "code",
   "execution_count": 16,
   "metadata": {},
   "outputs": [],
   "source": [
    "user = Input(shape = [1], name = 'user')\n",
    "userEmbedding = Embedding(noOfUniqueUsers+1, d_embeddings, name = 'User_Embedding')(user)\n",
    "userBias = Embedding(noOfUniqueUsers + 1, bias, name=\"User_Bias\")(user)"
   ]
  },
  {
   "cell_type": "code",
   "execution_count": 17,
   "metadata": {},
   "outputs": [
    {
     "name": "stdout",
     "output_type": "stream",
     "text": [
      "WARNING:tensorflow:From A:\\SW\\Conda\\envs\\tf_gpu\\lib\\site-packages\\keras\\backend\\tensorflow_backend.py:74: The name tf.get_default_graph is deprecated. Please use tf.compat.v1.get_default_graph instead.\n",
      "\n"
     ]
    }
   ],
   "source": [
    "utilityMatrix = multiply([movieEmbedding, userEmbedding])"
   ]
  },
  {
   "cell_type": "code",
   "execution_count": 18,
   "metadata": {},
   "outputs": [],
   "source": [
    "inputs = concatenate([utilityMatrix, userBias, movieBias])\n",
    "inputs = Flatten()(inputs)"
   ]
  },
  {
   "cell_type": "code",
   "execution_count": 19,
   "metadata": {},
   "outputs": [
    {
     "name": "stdout",
     "output_type": "stream",
     "text": [
      "WARNING:tensorflow:From A:\\SW\\Conda\\envs\\tf_gpu\\lib\\site-packages\\keras\\backend\\tensorflow_backend.py:133: The name tf.placeholder_with_default is deprecated. Please use tf.compat.v1.placeholder_with_default instead.\n",
      "\n",
      "WARNING:tensorflow:From A:\\SW\\Conda\\envs\\tf_gpu\\lib\\site-packages\\keras\\backend\\tensorflow_backend.py:3445: calling dropout (from tensorflow.python.ops.nn_ops) with keep_prob is deprecated and will be removed in a future version.\n",
      "Instructions for updating:\n",
      "Please use `rate` instead of `keep_prob`. Rate should be set to `rate = 1 - keep_prob`.\n"
     ]
    }
   ],
   "source": [
    "layer_1 = Dense(50, activation=\"relu\", name = \"Dense_layer1\")(inputs)\n",
    "layer_1 = Dropout(0.2)(layer_1)\n",
    "#layer_2 = Dense(100, activation=\"relu\", name = \"Dense_layer2\")(layer_1)\n",
    "#layer_2 = Dropout(0.2)(layer_2)\n",
    "output = Dense(1, activation=\"relu\", name = \"output\")(layer_1)"
   ]
  },
  {
   "cell_type": "code",
   "execution_count": 20,
   "metadata": {},
   "outputs": [],
   "source": [
    "recModel = Model(inputs = [movie, user], outputs = output)"
   ]
  },
  {
   "cell_type": "code",
   "execution_count": 21,
   "metadata": {},
   "outputs": [
    {
     "name": "stdout",
     "output_type": "stream",
     "text": [
      "__________________________________________________________________________________________________\n",
      "Layer (type)                    Output Shape         Param #     Connected to                     \n",
      "==================================================================================================\n",
      "movie (InputLayer)              (None, 1)            0                                            \n",
      "__________________________________________________________________________________________________\n",
      "user (InputLayer)               (None, 1)            0                                            \n",
      "__________________________________________________________________________________________________\n",
      "Movie_Embedding (Embedding)     (None, 1, 30)        291750      movie[0][0]                      \n",
      "__________________________________________________________________________________________________\n",
      "User_Embedding (Embedding)      (None, 1, 30)        18330       user[0][0]                       \n",
      "__________________________________________________________________________________________________\n",
      "multiply_1 (Multiply)           (None, 1, 30)        0           Movie_Embedding[0][0]            \n",
      "                                                                 User_Embedding[0][0]             \n",
      "__________________________________________________________________________________________________\n",
      "User_Bias (Embedding)           (None, 1, 1)         611         user[0][0]                       \n",
      "__________________________________________________________________________________________________\n",
      "Movie_Bias (Embedding)          (None, 1, 1)         9725        movie[0][0]                      \n",
      "__________________________________________________________________________________________________\n",
      "concatenate_1 (Concatenate)     (None, 1, 32)        0           multiply_1[0][0]                 \n",
      "                                                                 User_Bias[0][0]                  \n",
      "                                                                 Movie_Bias[0][0]                 \n",
      "__________________________________________________________________________________________________\n",
      "flatten_1 (Flatten)             (None, 32)           0           concatenate_1[0][0]              \n",
      "__________________________________________________________________________________________________\n",
      "Dense_layer1 (Dense)            (None, 50)           1650        flatten_1[0][0]                  \n",
      "__________________________________________________________________________________________________\n",
      "dropout_1 (Dropout)             (None, 50)           0           Dense_layer1[0][0]               \n",
      "__________________________________________________________________________________________________\n",
      "output (Dense)                  (None, 1)            51          dropout_1[0][0]                  \n",
      "==================================================================================================\n",
      "Total params: 322,117\n",
      "Trainable params: 322,117\n",
      "Non-trainable params: 0\n",
      "__________________________________________________________________________________________________\n"
     ]
    }
   ],
   "source": [
    "recModel.summary()"
   ]
  },
  {
   "cell_type": "code",
   "execution_count": 22,
   "metadata": {},
   "outputs": [],
   "source": [
    "from keras.optimizers import Adam, SGD, RMSprop, Adadelta, Adamax, Adagrad\n",
    "adam = Adam(lr = 0.001)\n",
    "sgd = SGD(lr = 0.001)\n",
    "rms = RMSprop(lr = 0.001)\n",
    "adadelta = Adadelta(lr = 0.001)\n",
    "adamax = Adamax(lr = 0.001)\n",
    "adagrad = Adagrad(lr = 0.001)"
   ]
  },
  {
   "cell_type": "code",
   "execution_count": 23,
   "metadata": {
    "scrolled": true
   },
   "outputs": [
    {
     "name": "stdout",
     "output_type": "stream",
     "text": [
      "WARNING:tensorflow:From A:\\SW\\Conda\\envs\\tf_gpu\\lib\\site-packages\\keras\\optimizers.py:790: The name tf.train.Optimizer is deprecated. Please use tf.compat.v1.train.Optimizer instead.\n",
      "\n",
      "WARNING:tensorflow:From A:\\SW\\Conda\\envs\\tf_gpu\\lib\\site-packages\\keras\\backend\\tensorflow_backend.py:986: The name tf.assign_add is deprecated. Please use tf.compat.v1.assign_add instead.\n",
      "\n",
      "Train on 80264 samples, validate on 404 samples\n",
      "Epoch 1/4\n",
      "80264/80264 [==============================] - 4s 44us/step - loss: 4.9500 - mean_absolute_error: 1.8209 - val_loss: 1.0179 - val_mean_absolute_error: 0.7988\n",
      "Epoch 2/4\n",
      "80264/80264 [==============================] - 2s 20us/step - loss: 1.0403 - mean_absolute_error: 0.8062 - val_loss: 0.9179 - val_mean_absolute_error: 0.7438\n",
      "Epoch 3/4\n",
      "80264/80264 [==============================] - 2s 19us/step - loss: 0.9578 - mean_absolute_error: 0.7678 - val_loss: 0.8999 - val_mean_absolute_error: 0.7316\n",
      "Epoch 4/4\n",
      "80264/80264 [==============================] - 2s 21us/step - loss: 0.9110 - mean_absolute_error: 0.7446 - val_loss: 0.8970 - val_mean_absolute_error: 0.7320\n"
     ]
    }
   ],
   "source": [
    "recModel.compile(optimizer = adam, loss = ['mse'], metrics = ['mean_absolute_error'])\n",
    "trainingHistory = recModel.fit([train['userId'], train['movieId']],\n",
    "                          train['rating'],\n",
    "                          batch_size = 256,\n",
    "                          validation_split = 0.005,\n",
    "                          epochs = 4,\n",
    "                          verbose = 1)"
   ]
  },
  {
   "cell_type": "markdown",
   "metadata": {},
   "source": [
    "Testing"
   ]
  },
  {
   "cell_type": "code",
   "execution_count": 24,
   "metadata": {},
   "outputs": [],
   "source": [
    "from sklearn.metrics import mean_absolute_error, mean_squared_error"
   ]
  },
  {
   "cell_type": "code",
   "execution_count": 25,
   "metadata": {},
   "outputs": [],
   "source": [
    "def getItem(itemlist):\n",
    "    return np.array([[item] for item in itemlist])"
   ]
  },
  {
   "cell_type": "code",
   "execution_count": 26,
   "metadata": {},
   "outputs": [],
   "source": [
    "recModel.save(\"mrs.h5\")"
   ]
  },
  {
   "cell_type": "code",
   "execution_count": 27,
   "metadata": {},
   "outputs": [],
   "source": [
    "predictions = recModel.predict([getItem(test['userId']), getItem(test['movieId'])])"
   ]
  },
  {
   "cell_type": "code",
   "execution_count": 28,
   "metadata": {},
   "outputs": [
    {
     "name": "stdout",
     "output_type": "stream",
     "text": [
      "MSE for test data : 0.871057681393455\n"
     ]
    }
   ],
   "source": [
    "print(\"MSE for test data :\", mean_squared_error(test[\"rating\"], predictions))"
   ]
  },
  {
   "cell_type": "code",
   "execution_count": 29,
   "metadata": {},
   "outputs": [],
   "source": [
    "from keras.models import load_model\n",
    "model = load_model(\"mrs.h5\")"
   ]
  },
  {
   "cell_type": "code",
   "execution_count": 30,
   "metadata": {},
   "outputs": [],
   "source": [
    "def predictRating(userId, movieId):\n",
    "    return model.predict(([np.array([userId]), np.array([movieId])]))[0][0]"
   ]
  },
  {
   "cell_type": "code",
   "execution_count": 31,
   "metadata": {},
   "outputs": [],
   "source": [
    "def topPredictions(userId, ratingData, movieData):\n",
    "    userRatings = ratingData[ratingData['userId'] == userId][['userId', 'movieId', 'rating']]\n",
    "    userRatings['prediction'] = userRatings.apply(lambda x: predictRating(userId, int(x['movieId'])), axis=1)\n",
    "    return userRatings.sort_values(by='prediction', \n",
    "                         ascending=False).merge(movieData, \n",
    "                                                on='movieId', \n",
    "                                                how='inner',\n",
    "                                               suffixes = ['_u', '_m']).head(20)                                       "
   ]
  },
  {
   "cell_type": "code",
   "execution_count": 32,
   "metadata": {},
   "outputs": [
    {
     "data": {
      "text/plain": [
       "3.347455"
      ]
     },
     "execution_count": 32,
     "metadata": {},
     "output_type": "execute_result"
    }
   ],
   "source": [
    "predictRating(1, 2)"
   ]
  },
  {
   "cell_type": "code",
   "execution_count": 33,
   "metadata": {},
   "outputs": [
    {
     "data": {
      "text/html": [
       "<div>\n",
       "<style scoped>\n",
       "    .dataframe tbody tr th:only-of-type {\n",
       "        vertical-align: middle;\n",
       "    }\n",
       "\n",
       "    .dataframe tbody tr th {\n",
       "        vertical-align: top;\n",
       "    }\n",
       "\n",
       "    .dataframe thead th {\n",
       "        text-align: right;\n",
       "    }\n",
       "</style>\n",
       "<table border=\"1\" class=\"dataframe\">\n",
       "  <thead>\n",
       "    <tr style=\"text-align: right;\">\n",
       "      <th></th>\n",
       "      <th>userId</th>\n",
       "      <th>movieId</th>\n",
       "      <th>rating</th>\n",
       "      <th>prediction</th>\n",
       "      <th>title</th>\n",
       "      <th>genres</th>\n",
       "    </tr>\n",
       "  </thead>\n",
       "  <tbody>\n",
       "    <tr>\n",
       "      <td>0</td>\n",
       "      <td>1</td>\n",
       "      <td>50</td>\n",
       "      <td>5.0</td>\n",
       "      <td>5.192434</td>\n",
       "      <td>Usual Suspects, The (1995)</td>\n",
       "      <td>Crime|Mystery|Thriller</td>\n",
       "    </tr>\n",
       "    <tr>\n",
       "      <td>1</td>\n",
       "      <td>1</td>\n",
       "      <td>608</td>\n",
       "      <td>5.0</td>\n",
       "      <td>5.099771</td>\n",
       "      <td>Fargo (1996)</td>\n",
       "      <td>Comedy|Crime|Drama|Thriller</td>\n",
       "    </tr>\n",
       "    <tr>\n",
       "      <td>2</td>\n",
       "      <td>1</td>\n",
       "      <td>356</td>\n",
       "      <td>4.0</td>\n",
       "      <td>4.989652</td>\n",
       "      <td>Forrest Gump (1994)</td>\n",
       "      <td>Comedy|Drama|Romance|War</td>\n",
       "    </tr>\n",
       "    <tr>\n",
       "      <td>3</td>\n",
       "      <td>1</td>\n",
       "      <td>296</td>\n",
       "      <td>3.0</td>\n",
       "      <td>4.917470</td>\n",
       "      <td>Pulp Fiction (1994)</td>\n",
       "      <td>Comedy|Crime|Drama|Thriller</td>\n",
       "    </tr>\n",
       "    <tr>\n",
       "      <td>4</td>\n",
       "      <td>1</td>\n",
       "      <td>101</td>\n",
       "      <td>5.0</td>\n",
       "      <td>4.915381</td>\n",
       "      <td>Bottle Rocket (1996)</td>\n",
       "      <td>Adventure|Comedy|Crime|Romance</td>\n",
       "    </tr>\n",
       "    <tr>\n",
       "      <td>5</td>\n",
       "      <td>1</td>\n",
       "      <td>333</td>\n",
       "      <td>5.0</td>\n",
       "      <td>4.875580</td>\n",
       "      <td>Tommy Boy (1995)</td>\n",
       "      <td>Comedy</td>\n",
       "    </tr>\n",
       "    <tr>\n",
       "      <td>6</td>\n",
       "      <td>1</td>\n",
       "      <td>260</td>\n",
       "      <td>5.0</td>\n",
       "      <td>4.799741</td>\n",
       "      <td>Star Wars: Episode IV - A New Hope (1977)</td>\n",
       "      <td>Action|Adventure|Sci-Fi</td>\n",
       "    </tr>\n",
       "    <tr>\n",
       "      <td>7</td>\n",
       "      <td>1</td>\n",
       "      <td>362</td>\n",
       "      <td>5.0</td>\n",
       "      <td>4.786876</td>\n",
       "      <td>Jungle Book, The (1994)</td>\n",
       "      <td>Adventure|Children|Romance</td>\n",
       "    </tr>\n",
       "    <tr>\n",
       "      <td>8</td>\n",
       "      <td>1</td>\n",
       "      <td>235</td>\n",
       "      <td>4.0</td>\n",
       "      <td>4.779713</td>\n",
       "      <td>Ed Wood (1994)</td>\n",
       "      <td>Comedy|Drama</td>\n",
       "    </tr>\n",
       "    <tr>\n",
       "      <td>9</td>\n",
       "      <td>1</td>\n",
       "      <td>596</td>\n",
       "      <td>5.0</td>\n",
       "      <td>4.749250</td>\n",
       "      <td>Pinocchio (1940)</td>\n",
       "      <td>Animation|Children|Fantasy|Musical</td>\n",
       "    </tr>\n",
       "    <tr>\n",
       "      <td>10</td>\n",
       "      <td>1</td>\n",
       "      <td>527</td>\n",
       "      <td>5.0</td>\n",
       "      <td>4.747636</td>\n",
       "      <td>Schindler's List (1993)</td>\n",
       "      <td>Drama|War</td>\n",
       "    </tr>\n",
       "    <tr>\n",
       "      <td>11</td>\n",
       "      <td>1</td>\n",
       "      <td>593</td>\n",
       "      <td>4.0</td>\n",
       "      <td>4.716247</td>\n",
       "      <td>Silence of the Lambs, The (1991)</td>\n",
       "      <td>Crime|Horror|Thriller</td>\n",
       "    </tr>\n",
       "    <tr>\n",
       "      <td>12</td>\n",
       "      <td>1</td>\n",
       "      <td>216</td>\n",
       "      <td>5.0</td>\n",
       "      <td>4.685043</td>\n",
       "      <td>Billy Madison (1995)</td>\n",
       "      <td>Comedy</td>\n",
       "    </tr>\n",
       "    <tr>\n",
       "      <td>13</td>\n",
       "      <td>1</td>\n",
       "      <td>157</td>\n",
       "      <td>5.0</td>\n",
       "      <td>4.653192</td>\n",
       "      <td>Canadian Bacon (1995)</td>\n",
       "      <td>Comedy|War</td>\n",
       "    </tr>\n",
       "    <tr>\n",
       "      <td>14</td>\n",
       "      <td>1</td>\n",
       "      <td>1</td>\n",
       "      <td>4.0</td>\n",
       "      <td>4.595357</td>\n",
       "      <td>Toy Story (1995)</td>\n",
       "      <td>Adventure|Animation|Children|Comedy|Fantasy</td>\n",
       "    </tr>\n",
       "    <tr>\n",
       "      <td>15</td>\n",
       "      <td>1</td>\n",
       "      <td>151</td>\n",
       "      <td>5.0</td>\n",
       "      <td>4.576864</td>\n",
       "      <td>Rob Roy (1995)</td>\n",
       "      <td>Action|Drama|Romance|War</td>\n",
       "    </tr>\n",
       "    <tr>\n",
       "      <td>16</td>\n",
       "      <td>1</td>\n",
       "      <td>6</td>\n",
       "      <td>4.0</td>\n",
       "      <td>4.519955</td>\n",
       "      <td>Heat (1995)</td>\n",
       "      <td>Action|Crime|Thriller</td>\n",
       "    </tr>\n",
       "    <tr>\n",
       "      <td>17</td>\n",
       "      <td>1</td>\n",
       "      <td>349</td>\n",
       "      <td>4.0</td>\n",
       "      <td>4.498159</td>\n",
       "      <td>Clear and Present Danger (1994)</td>\n",
       "      <td>Action|Crime|Drama|Thriller</td>\n",
       "    </tr>\n",
       "    <tr>\n",
       "      <td>18</td>\n",
       "      <td>1</td>\n",
       "      <td>47</td>\n",
       "      <td>5.0</td>\n",
       "      <td>4.452701</td>\n",
       "      <td>Seven (a.k.a. Se7en) (1995)</td>\n",
       "      <td>Mystery|Thriller</td>\n",
       "    </tr>\n",
       "    <tr>\n",
       "      <td>19</td>\n",
       "      <td>1</td>\n",
       "      <td>163</td>\n",
       "      <td>5.0</td>\n",
       "      <td>4.442185</td>\n",
       "      <td>Desperado (1995)</td>\n",
       "      <td>Action|Romance|Western</td>\n",
       "    </tr>\n",
       "  </tbody>\n",
       "</table>\n",
       "</div>"
      ],
      "text/plain": [
       "    userId  movieId  rating  prediction  \\\n",
       "0        1       50     5.0    5.192434   \n",
       "1        1      608     5.0    5.099771   \n",
       "2        1      356     4.0    4.989652   \n",
       "3        1      296     3.0    4.917470   \n",
       "4        1      101     5.0    4.915381   \n",
       "5        1      333     5.0    4.875580   \n",
       "6        1      260     5.0    4.799741   \n",
       "7        1      362     5.0    4.786876   \n",
       "8        1      235     4.0    4.779713   \n",
       "9        1      596     5.0    4.749250   \n",
       "10       1      527     5.0    4.747636   \n",
       "11       1      593     4.0    4.716247   \n",
       "12       1      216     5.0    4.685043   \n",
       "13       1      157     5.0    4.653192   \n",
       "14       1        1     4.0    4.595357   \n",
       "15       1      151     5.0    4.576864   \n",
       "16       1        6     4.0    4.519955   \n",
       "17       1      349     4.0    4.498159   \n",
       "18       1       47     5.0    4.452701   \n",
       "19       1      163     5.0    4.442185   \n",
       "\n",
       "                                        title  \\\n",
       "0                  Usual Suspects, The (1995)   \n",
       "1                                Fargo (1996)   \n",
       "2                         Forrest Gump (1994)   \n",
       "3                         Pulp Fiction (1994)   \n",
       "4                        Bottle Rocket (1996)   \n",
       "5                            Tommy Boy (1995)   \n",
       "6   Star Wars: Episode IV - A New Hope (1977)   \n",
       "7                     Jungle Book, The (1994)   \n",
       "8                              Ed Wood (1994)   \n",
       "9                            Pinocchio (1940)   \n",
       "10                    Schindler's List (1993)   \n",
       "11           Silence of the Lambs, The (1991)   \n",
       "12                       Billy Madison (1995)   \n",
       "13                      Canadian Bacon (1995)   \n",
       "14                           Toy Story (1995)   \n",
       "15                             Rob Roy (1995)   \n",
       "16                                Heat (1995)   \n",
       "17            Clear and Present Danger (1994)   \n",
       "18                Seven (a.k.a. Se7en) (1995)   \n",
       "19                           Desperado (1995)   \n",
       "\n",
       "                                         genres  \n",
       "0                        Crime|Mystery|Thriller  \n",
       "1                   Comedy|Crime|Drama|Thriller  \n",
       "2                      Comedy|Drama|Romance|War  \n",
       "3                   Comedy|Crime|Drama|Thriller  \n",
       "4                Adventure|Comedy|Crime|Romance  \n",
       "5                                        Comedy  \n",
       "6                       Action|Adventure|Sci-Fi  \n",
       "7                    Adventure|Children|Romance  \n",
       "8                                  Comedy|Drama  \n",
       "9            Animation|Children|Fantasy|Musical  \n",
       "10                                    Drama|War  \n",
       "11                        Crime|Horror|Thriller  \n",
       "12                                       Comedy  \n",
       "13                                   Comedy|War  \n",
       "14  Adventure|Animation|Children|Comedy|Fantasy  \n",
       "15                     Action|Drama|Romance|War  \n",
       "16                        Action|Crime|Thriller  \n",
       "17                  Action|Crime|Drama|Thriller  \n",
       "18                             Mystery|Thriller  \n",
       "19                       Action|Romance|Western  "
      ]
     },
     "execution_count": 33,
     "metadata": {},
     "output_type": "execute_result"
    }
   ],
   "source": [
    "topPredictions(1,ratingData,movieData)"
   ]
  },
  {
   "cell_type": "code",
   "execution_count": null,
   "metadata": {},
   "outputs": [],
   "source": []
  }
 ],
 "metadata": {
  "kernelspec": {
   "display_name": "Python 3",
   "language": "python",
   "name": "python3"
  },
  "language_info": {
   "codemirror_mode": {
    "name": "ipython",
    "version": 3
   },
   "file_extension": ".py",
   "mimetype": "text/x-python",
   "name": "python",
   "nbconvert_exporter": "python",
   "pygments_lexer": "ipython3",
   "version": "3.7.4"
  }
 },
 "nbformat": 4,
 "nbformat_minor": 2
}
